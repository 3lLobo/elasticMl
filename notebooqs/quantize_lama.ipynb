{
 "cells": [
  {
   "cell_type": "code",
   "execution_count": 1,
   "metadata": {},
   "outputs": [
    {
     "name": "stderr",
     "output_type": "stream",
     "text": [
      "/home/lumi/worqspace/elasticMl/.venv/lib/python3.11/site-packages/tqdm/auto.py:21: TqdmWarning: IProgress not found. Please update jupyter and ipywidgets. See https://ipywidgets.readthedocs.io/en/stable/user_install.html\n",
      "  from .autonotebook import tqdm as notebook_tqdm\n"
     ]
    }
   ],
   "source": [
    "from transformers import AutoTokenizer\n",
    "from optimum.onnxruntime import ORTModelForQuestionAnswering, ORTModelForCausalLM\n",
    "import torch\n",
    "import time\n",
    "\n",
    "device = torch.device(\"cuda\" if torch.cuda.is_available() else \"cpu\")"
   ]
  },
  {
   "cell_type": "code",
   "execution_count": 2,
   "metadata": {},
   "outputs": [
    {
     "name": "stderr",
     "output_type": "stream",
     "text": [
      "2023-08-06 15:03:38.855484593 [W:onnxruntime:, session_state.cc:1169 VerifyEachNodeIsAssignedToAnEp] Some nodes were not assigned to the preferred execution providers which may or may not have an negative impact on performance. e.g. ORT explicitly assigns shape related ops to CPU to improve perf.\n",
      "2023-08-06 15:03:38.855550935 [W:onnxruntime:, session_state.cc:1171 VerifyEachNodeIsAssignedToAnEp] Rerunning with verbose output on a non-minimal build will show node assignments.\n"
     ]
    }
   ],
   "source": [
    "# onnx_path = 'temp/llama13b-onnx/'\n",
    "# onnx_path = 'temp/llamaII7b-onnx/'\n",
    "onnx_path = 'temp/llamaII13b-onnx/'\n",
    "\n",
    "tokenizer = AutoTokenizer.from_pretrained(onnx_path)\n",
    "model = ORTModelForCausalLM.from_pretrained(onnx_path, use_cache=False, use_io_binding=False).to(device)\n"
   ]
  },
  {
   "cell_type": "code",
   "execution_count": 4,
   "metadata": {},
   "outputs": [
    {
     "name": "stdout",
     "output_type": "stream",
     "text": [
      "Time taken:  2849.8228986263275\n",
      "<s> The following is a detailed recipe for a cake named 'Death-by-Chocolate': \n",
      "First  you take a cup of flour and mix it with a tablespoon of baking powder.  Then,\n",
      "Second  add a half cup each of sugar and cocoa powders, mix them well.\n",
      "Third  take one stick of butter and one cup  of milk, melt them together in a saucepan. Then\n",
      "Fourth  pour the buttermilk mixture into the other ingredients and beat the batter until smooth. Pour\n",
      "the batter into a greased casserole and bake at 375 degrees for about an hour. Serve with whipped cream.</s><unk><unk><unk><unk><unk><unk><unk><unk><unk><unk><unk><unk><unk><unk><unk><unk><unk><unk><unk><unk><unk><unk><unk><unk><unk><unk><unk><unk><unk><unk><unk><unk><unk><unk><unk><unk><unk><unk><unk><unk><unk><unk><unk><unk><unk><unk><unk><unk><unk><unk><unk><unk><unk><unk><unk><unk><unk><unk><unk><unk><unk><unk><unk><unk><unk><unk><unk><unk><unk><unk><unk><unk><unk><unk><unk><unk><unk><unk><unk><unk><unk><unk><unk><unk><unk><unk><unk><unk><unk><unk><unk><unk><unk><unk><unk><unk><unk><unk><unk><unk><unk><unk><unk><unk><unk><unk><unk><unk><unk><unk><unk><unk><unk><unk><unk><unk><unk><unk><unk><unk><unk><unk><unk><unk><unk><unk><unk><unk><unk><unk><unk><unk><unk><unk><unk><unk><unk><unk><unk><unk><unk><unk><unk><unk><unk><unk><unk><unk><unk><unk><unk><unk><unk><unk><unk><unk><unk><unk><unk><unk><unk><unk><unk><unk><unk><unk><unk><unk><unk><unk><unk><unk><unk><unk><unk><unk><unk><unk><unk><unk><unk><unk><unk><unk><unk><unk><unk><unk><unk><unk><unk><unk><unk><unk><unk><unk><unk><unk><unk><unk><unk><unk><unk><unk><unk><unk><unk><unk><unk><unk><unk><unk><unk><unk><unk><unk><unk><unk><unk><unk><unk><unk><unk><unk><unk><unk><unk><unk><unk><unk><unk><unk><unk><unk><unk><unk><unk><unk><unk><unk><unk><unk><unk><unk><unk><unk><unk><unk><unk><unk><unk><unk><unk><unk><unk><unk><unk><unk><unk><unk><unk><unk><unk><unk><unk><unk><unk><unk><unk><unk><unk><unk><unk><unk><unk><unk><unk><unk><unk><unk><unk><unk><unk><unk><unk><unk><unk><unk><unk><unk><unk><unk><unk><unk><unk><unk><unk><unk><unk><unk><unk><unk><unk><unk><unk><unk><unk><unk><unk><unk><unk><unk><unk><unk><unk><unk><unk><unk><unk><unk><unk><unk><unk><unk><unk><unk><unk><unk><unk><unk><unk><unk><unk><unk><unk><unk><unk><unk><unk><unk><unk><unk><unk><unk><unk><unk><unk><unk><unk><unk><unk><unk><unk><unk><unk><unk><unk><unk><unk><unk><unk><unk><unk><unk><unk><unk><unk><unk><unk><unk>\n",
      "---\n",
      "<s> The following is a detailed recipe for a cake named 'Death-by-Chocolate': \n",
      "First 12 eggs are put in a large bowl and beaten.\n",
      "Then 3 sticks of butter are added to the eggs and mixed. 6 cups of sugar are mixed to it, followed by 2 cuppes of water. Then 4 cupe of cocoa powder and 8 cupls of flour are measured out. Next 5 cuple of baking powders and a ½ cup of vanilla are poured in. The final ingredients are ¾ cup milk and the last ¼ cup is added later. Once all the ingreedients have been combined, the cak batter is baked for about 90 minutes. After this time, a toothpick is inserted and it should come out clean. If not, then the bake should be bakned for another 75 minutes to an hour. Now for the icing:  First ⅔ cup buttter is melted in the microwave and then ⅓ cup coco poweder is poued into the mellowed buter and stirred until smooth. To this, ￿ cup powdeed sugar is mixed in until it is smooth and icings consistency is desired. (It should take about ten minutes for this) It can now be used to ice the freshly baken cakes. And there you have it! A delicious, chocolaty, rich and moist Death-By-Cacao cacae.</s><unk><unk><unk><unk><unk><unk><unk><unk><unk><unk><unk><unk><unk><unk><unk><unk><unk><unk><unk><unk><unk><unk><unk><unk><unk><unk><unk><unk><unk><unk><unk><unk><unk><unk><unk><unk><unk><unk><unk><unk><unk><unk><unk><unk><unk><unk><unk><unk><unk><unk><unk><unk><unk><unk><unk><unk><unk><unk><unk><unk><unk><unk><unk><unk><unk><unk><unk><unk><unk><unk><unk><unk><unk><unk><unk><unk><unk><unk><unk><unk><unk><unk><unk><unk><unk><unk><unk><unk><unk><unk><unk><unk><unk><unk><unk><unk><unk><unk><unk><unk><unk><unk><unk><unk><unk><unk><unk><unk><unk><unk><unk><unk><unk><unk><unk><unk><unk><unk><unk><unk><unk><unk><unk><unk><unk><unk><unk><unk><unk><unk><unk><unk><unk><unk><unk><unk><unk><unk><unk><unk><unk><unk><unk><unk><unk><unk><unk><unk><unk><unk><unk><unk><unk><unk><unk><unk><unk><unk><unk><unk><unk><unk><unk><unk><unk><unk><unk><unk><unk><unk><unk><unk><unk><unk><unk><unk><unk><unk><unk><unk><unk><unk><unk><unk><unk><unk><unk>\n",
      "---\n",
      "<s> The following is a detailed recipe for a cake named 'Death-by-Chocolate': \n",
      "First 1. 250g dark choc chips, melted in the microwave.\n",
      "Second 5. A cup of hot coffee.  \n",
      "Add this to the mushed-up choco-chips. Mix. Pour into a pan. Set in a slow cooker. Cook for an hour on a low setting. Remove and leave to cool. It will take a while, but be patient. Eventually, the coffee will evaporate. The chocs will cool and harden. In the meantime, you can go and eat a biscuit. (Because it will be ages.)\n",
      "Third 4. Take the chooks and the egg. Prepare them. Boil them, preferably. If not, fry them in butter. Do not use margarine, as it is disgusting. Once they are cooked, take the yolks and throw them into the cooled chocoa-coco. Stir. Add:\n",
      "Fourth 3. Two packets of icing sugar. Or one. I have no idea. They are small. Don't use large packets. You will die. One small packet is enough. And stir. After you have added the icingsugar, leave the mixture to sit for 6 hours. Then add:  1 teaspoon of vanilla.   2 teasp. of cocoa.     1 tablespopoo of milk. That should do it. Now, stir it all together. Slowly. Carefully. Thoroughly, even. Leave for another 8 hours or so. By now, your icersugars will have dissolved. Your chocks will still be hard. This is good. Cool the whole mixture. Store in fridge. Eat a week later. Enjoy. Please do not eat this. Ever. As the recipes states, it may cause death. Not your death, although that is likely. But the death of your tastebuds. Death-By-Sugary-Cocoa is not a reciprocal. Only a one-way trip. Trust me. DO NOT make this crap. Unless you like death-in-choc. Which, I'm sure, is very fun for you. Yay. To you, then. Good luck. May you die happy.</s>\n",
      "---\n",
      "<s> The following is a detailed recipe for a cake named 'Death-by-Chocolate': \n",
      "First 1) Death-By-Cupcakes:\n",
      "Prepare one box of Devil's Food Cake Mix.\n",
      "Add one cup of oil and one egg to the box. (Use 2 eggs if you want it to be extra moist.)\n",
      "Stir until mixed. Bake at 350 degrees for 45 minutes.  (Can also be made in a 9x13 pan by doubling the recipes.)  Add 5 cups of icing sugar to a bowl. Add one package of Buttercream Icing Mix to bowel. Mix until it'll stick together. Frost the cupcaks. It'd be best to frost them while they're still warm. You can also add a few drops (or a lot) of food coloring. I recommend adding green. This is the best color for Death By Chocolake.</s><unk><unk><unk><unk><unk><unk><unk><unk><unk><unk><unk><unk><unk><unk><unk><unk><unk><unk><unk><unk><unk><unk><unk><unk><unk><unk><unk><unk><unk><unk><unk><unk><unk><unk><unk><unk><unk><unk><unk><unk><unk><unk><unk><unk><unk><unk><unk><unk><unk><unk><unk><unk><unk><unk><unk><unk><unk><unk><unk><unk><unk><unk><unk><unk><unk><unk><unk><unk><unk><unk><unk><unk><unk><unk><unk><unk><unk><unk><unk><unk><unk><unk><unk><unk><unk><unk><unk><unk><unk><unk><unk><unk><unk><unk><unk><unk><unk><unk><unk><unk><unk><unk><unk><unk><unk><unk><unk><unk><unk><unk><unk><unk><unk><unk><unk><unk><unk><unk><unk><unk><unk><unk><unk><unk><unk><unk><unk><unk><unk><unk><unk><unk><unk><unk><unk><unk><unk><unk><unk><unk><unk><unk><unk><unk><unk><unk><unk><unk><unk><unk><unk><unk><unk><unk><unk><unk><unk><unk><unk><unk><unk><unk><unk><unk><unk><unk><unk><unk><unk><unk><unk><unk><unk><unk><unk><unk><unk><unk><unk><unk><unk><unk><unk><unk><unk><unk><unk><unk><unk><unk><unk><unk><unk><unk><unk><unk><unk><unk><unk><unk><unk><unk><unk><unk><unk><unk><unk><unk><unk><unk><unk><unk><unk><unk><unk><unk><unk><unk><unk><unk><unk><unk><unk><unk><unk><unk><unk><unk><unk><unk><unk><unk><unk><unk><unk><unk><unk><unk><unk><unk><unk><unk><unk><unk><unk><unk><unk><unk><unk><unk><unk><unk><unk><unk><unk><unk><unk><unk><unk><unk><unk><unk><unk><unk><unk><unk><unk><unk><unk><unk><unk><unk><unk><unk><unk><unk><unk><unk><unk><unk><unk><unk><unk><unk><unk><unk><unk><unk><unk><unk><unk><unk><unk><unk><unk><unk><unk><unk><unk><unk><unk><unk><unk><unk><unk><unk><unk><unk>\n",
      "---\n"
     ]
    }
   ],
   "source": [
    "ts = time.time()\n",
    "inputs = tokenizer(\"The following is a detailed recipe for a cake named 'Death-by-Chocolate': \\nFirst \", return_tensors=\"pt\").to(device)\n",
    "# print(inputs)\n",
    "# outputs = model.generate(**inputs, do_sample=True, max_length=50, early_stopping=True, no_repeat_ngram_size=3, num_beams=1)\n",
    "outputs = model.generate(**inputs, max_length=1110, do_sample=True, top_k=50, top_p=0.95, num_return_sequences=4, temperature=0.7, num_beams=1, no_repeat_ngram_size=2, early_stopping=True)\n",
    "print(\"Time taken: \", time.time() - ts)\n",
    "for seq in tokenizer.batch_decode(outputs):\n",
    "  print(seq)\n",
    "  print('---')"
   ]
  },
  {
   "cell_type": "code",
   "execution_count": 3,
   "metadata": {},
   "outputs": [
    {
     "name": "stdout",
     "output_type": "stream",
     "text": [
      "Generated text: 1. 1 cup unsweetened cocoa powder, plus more for dusting\n",
      "\n",
      "    * 2 cups all-purpose flour, sif\n",
      "Elapsed time: 362.578 seconds\n",
      "Recipe length: 27 words\n",
      "Generated text: Preheat oven to 350 degrees F (175 degrees C). Grease a 9x13 inch b\n",
      "Elapsed time: 306.079 seconds\n",
      "Recipe length: 40 words\n",
      "Generated text: king dish.\n",
      "In a large bowl, cream together the butter and sugar until light and fluffy. Beat in the eggs, one at a time,\n",
      "Elapsed time: 275.290 seconds\n",
      "Recipe length: 63 words\n",
      "Generated text: Combine the flour, baking powder and salt; stir into the creamed mixture. Stir in chocolate chip\n",
      "Elapsed time: 303.377 seconds\n",
      "Recipe length: 78 words\n",
      "Generated text: \n",
      "Drop by rounded teaspoonfuls 2 inches apart onto ungreased cookie sheets. Bake at 375° for 8-10\n",
      "Elapsed time: 262.739 seconds\n",
      "Recipe length: 94 words\n",
      "Generated text: minutes or until lightly browned. Cool on w\n",
      "Elapsed time: 303.964 seconds\n",
      "Recipe length: 101 words\n",
      "Total time: 1814.030 seconds\n",
      "Title: Death-by-Chocolate \n",
      "Category: Desserts \n",
      "Tags: Chocolate, Cake \n",
      "Yield: 9 servings \n",
      "Ingredients: \n",
      "  1. 1 cup unsweetened cocoa powder, plus more for dusting\n",
      "\n",
      "    * 2 cups all-purpose flour, sifPreheat oven to 350 degrees F (175 degrees C). Grease a 9x13 inch bking dish.\n",
      "In a large bowl, cream together the butter and sugar until light and fluffy. Beat in the eggs, one at a time,Combine the flour, baking powder and salt; stir into the creamed mixture. Stir in chocolate chip\n",
      "Drop by rounded teaspoonfuls 2 inches apart onto ungreased cookie sheets. Bake at 375° for 8-10minutes or until lightly browned. Cool on w\n"
     ]
    }
   ],
   "source": [
    "\n",
    "is_stoptoken = False\n",
    "recipe = \"Title: Death-by-Chocolate \\\n",
    "\\nCategory: Desserts \\\n",
    "\\nTags: Chocolate, Cake \\\n",
    "\\nYield: 9 servings \\\n",
    "\\nIngredients: \\\n",
    "\\n  \"\n",
    "\n",
    "# input_tokens = tokenizer(recipe, return_tensors=\"pt\").to(device)\n",
    "# token_outputs = model.generate(**input_tokens, max_new_tokens=3300, do_sample=True, top_k=50, top_p=0.95, num_return_sequences=5, temperature=0.7, num_beams=5, no_repeat_ngram_size=2, early_stopping=True)\n",
    "# text_outputs = tokenizer.batch_decode(token_outputs, skip_special_tokens=True)\n",
    "# for i in range(len(text_outputs)):\n",
    "#     print(f\"Recipe {i+1}: {text_outputs[i]}\")\n",
    "#     print(f\"Recipe {i+1}: {text_outputs[i]}\", file=open(\"lama_recipe.txt\", \"a\"))\n",
    "    \n",
    "\n",
    "t_total = 0\n",
    "previous_recipe = recipe\n",
    "while not is_stoptoken:\n",
    "    t_start = time.time()\n",
    "    initial_input = tokenizer(previous_recipe, return_tensors=\"pt\").to(device)\n",
    "    outputs = model.generate(**initial_input, max_new_tokens=36, do_sample=True, top_k=50, top_p=0.95, num_return_sequences=1, temperature=0.7, num_beams=5, no_repeat_ngram_size=2, early_stopping=True)\n",
    "    outputs_text = tokenizer.batch_decode(outputs, skip_special_tokens=True)[0]\n",
    "    previous_recipe = outputs_text.strip(previous_recipe)\n",
    "    recipe += previous_recipe\n",
    "    print(f\"Generated text: {previous_recipe}\")\n",
    "    print(f\"{previous_recipe}\", file=open(\"lama_recipe.txt\", \"a\"))\n",
    "    print(f\"Elapsed time: {time.time() - t_start:.3f} seconds\\nRecipe length: {len(recipe.split())} words\")\n",
    "    # Check for stop token\n",
    "    outputs_text = tokenizer.batch_decode(outputs, skip_special_tokens=False)[0]\n",
    "    t_total += time.time() - t_start\n",
    "    if '</s>' in outputs_text:\n",
    "        is_stoptoken = True\n",
    "\n",
    "print(f\"Total time: {t_total:.3f} seconds\")\n",
    "print(recipe)\n"
   ]
  },
  {
   "cell_type": "code",
   "execution_count": 4,
   "metadata": {},
   "outputs": [],
   "source": [
    "print(recipe, file=open(\"lama_recipe_full.txt\", \"a\"))"
   ]
  },
  {
   "cell_type": "code",
   "execution_count": 4,
   "metadata": {},
   "outputs": [
    {
     "ename": "SyntaxError",
     "evalue": "incomplete input (2561082293.py, line 22)",
     "output_type": "error",
     "traceback": [
      "\u001b[0;36m  Cell \u001b[0;32mIn[4], line 22\u001b[0;36m\u001b[0m\n\u001b[0;31m    ---\"\"\", file=open(\"lama.txt\", \"w\")\u001b[0m\n\u001b[0m                                      ^\u001b[0m\n\u001b[0;31mSyntaxError\u001b[0m\u001b[0;31m:\u001b[0m incomplete input\n"
     ]
    }
   ],
   "source": [
    "print(\"\"\"Time taken:  138.5658130645752\n",
    "<s> What is the meaning of life? Is it possible to answer this question? The most important and well-known philosophers and thinkers of the world have been trying to give an answer to this. One of them was the Russian philosopher Vladimir Nabokov. He said that the question is impossible to be answered. But we can find some hints to the answer. And the main hint is that we must search for it.\n",
    "The main idea of Nietzsche is a will to power. This means that each of us has a certain will\n",
    "---\n",
    "<s> What is the meaning of life? How is it possible to live a meaningful life, to find purpose in life and meaning in suffering? Are there answers to these fundamental questions?\n",
    "This course will look at the question of meaning and the possibility of finding meaning through suffering, and through the way of the Buddha. It will investigate how we can find meaning as we go through life.\n",
    "The course is based on an in-depth study of Buddhist texts, mainly the Pali Canon and Theravada texts. These are texts which have been studied\n",
    "---\n",
    "<s> What is the meaning of life? What does it mean to be happy? Why is it so hard to live a moral life and have a good conscience?\n",
    "The answers to these questions are not as simple as we might like. But they are important, and are the subject of this book.\n",
    "In 1977, I went to Rome for the first time and met with Pope John Paul II. Afterwards I gave him a copy of my book The Cross and the Switchblade, a book he had read. He asked\n",
    "---\n",
    "<s> What is the meaning of life? We all ask this question but how many of us can answer it? There are many answers to this questions, and these answers are usually given by theologians and philosophers. But what does the Bible say about it.\n",
    "A question like this is not easy to answer, but it is possible to come up with a good answer. The Bible tells us that God created all things, including life. He also tells that he created the world for us to enjoy. So, what is life about?\n",
    "The\n",
    "---\"\"\", file=open(\"lama.txt\", \"w\")"
   ]
  }
 ],
 "metadata": {
  "kernelspec": {
   "display_name": ".venv",
   "language": "python",
   "name": "python3"
  },
  "language_info": {
   "codemirror_mode": {
    "name": "ipython",
    "version": 3
   },
   "file_extension": ".py",
   "mimetype": "text/x-python",
   "name": "python",
   "nbconvert_exporter": "python",
   "pygments_lexer": "ipython3",
   "version": "3.11.0"
  },
  "orig_nbformat": 4
 },
 "nbformat": 4,
 "nbformat_minor": 2
}
